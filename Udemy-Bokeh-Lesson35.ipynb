{
 "cells": [
  {
   "cell_type": "code",
   "execution_count": 1,
   "metadata": {},
   "outputs": [],
   "source": [
    "#Plotting periodic table elements \n",
    "\n",
    "#Importing libraries\n",
    "from bokeh.plotting import figure\n",
    "from bokeh.io import output_file, show\n",
    "from bokeh.layouts import gridplot\n",
    "from bokeh.sampledata.periodic_table import elements\n",
    "from bokeh.models import Range1d, PanTool, ResetTool, HoverTool, ColumnDataSource, LabelSet\n",
    "import pandas\n",
    "\n",
    "#Remove rows with NaN values and then map standard states to colors\n",
    "elements.dropna(inplace=True) #if inplace is not set to True the changes are not written to the dataframe\n",
    "colormap = {'gas':'yellow','liquid':'orange','solid':'red'}\n",
    "elements['color'] = [colormap[x] for x in elements['standard state']]\n",
    "elements['size'] = elements['van der Waals radius'] / 10\n",
    "\n",
    "#Create three ColumnDataSources for elements of unique standard states\n",
    "gas = ColumnDataSource(elements[elements['standard state']=='gas'])\n",
    "liquid = ColumnDataSource(elements[elements['standard state']=='liquid'])\n",
    "solid = ColumnDataSource(elements[elements['standard state']=='solid'])\n",
    "\n",
    "#Define the output file path\n",
    "output_file(\"elements_gridplot.html\")\n",
    "\n",
    "#Create the figure object\n",
    "f1=figure()\n",
    "\n",
    "#adding glyphs\n",
    "f1.circle(x=\"atomic radius\", y=\"boiling point\", size='size',\n",
    "         fill_alpha=0.2, color=\"color\", legend='Gas', source=gas)\n",
    "\n",
    "f2=figure()\n",
    "f2.circle(x=\"atomic radius\", y=\"boiling point\", size='size',\n",
    "         fill_alpha=0.2, color=\"color\", legend='Liquid', source=liquid)\n",
    "\n",
    "f3=figure()\n",
    "f3.circle(x=\"atomic radius\",  y=\"boiling point\", size='size',\n",
    "         fill_alpha=0.2, color=\"color\", legend='Solid', source=solid)\n",
    "\n",
    "f=gridplot([[f1,f2], [None,f3]])\n",
    "\n",
    "#Save and show the figure\n",
    "show(f)"
   ]
  },
  {
   "cell_type": "code",
   "execution_count": null,
   "metadata": {
    "collapsed": true
   },
   "outputs": [],
   "source": []
  }
 ],
 "metadata": {
  "kernelspec": {
   "display_name": "Python 3",
   "language": "python",
   "name": "python3"
  },
  "language_info": {
   "codemirror_mode": {
    "name": "ipython",
    "version": 3
   },
   "file_extension": ".py",
   "mimetype": "text/x-python",
   "name": "python",
   "nbconvert_exporter": "python",
   "pygments_lexer": "ipython3",
   "version": "3.6.3"
  }
 },
 "nbformat": 4,
 "nbformat_minor": 2
}
