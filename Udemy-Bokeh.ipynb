{
 "cells": [
  {
   "cell_type": "code",
   "execution_count": 14,
   "metadata": {},
   "outputs": [
    {
     "ename": "AttributeError",
     "evalue": "unexpected attribute 'tools' to Figure, similar attributes are toolbar",
     "output_type": "error",
     "traceback": [
      "\u001b[0;31m---------------------------------------------------------------------------\u001b[0m",
      "\u001b[0;31mAttributeError\u001b[0m                            Traceback (most recent call last)",
      "\u001b[0;32m<ipython-input-14-e404d7c0b6e2>\u001b[0m in \u001b[0;36m<module>\u001b[0;34m()\u001b[0m\n\u001b[1;32m     15\u001b[0m \u001b[0;34m\u001b[0m\u001b[0m\n\u001b[1;32m     16\u001b[0m \u001b[0;31m#Style the tools\u001b[0m\u001b[0;34m\u001b[0m\u001b[0;34m\u001b[0m\u001b[0m\n\u001b[0;32m---> 17\u001b[0;31m \u001b[0mf\u001b[0m\u001b[0;34m.\u001b[0m\u001b[0mtools\u001b[0m \u001b[0;34m=\u001b[0m \u001b[0;34m[\u001b[0m\u001b[0mPanTool\u001b[0m\u001b[0;34m(\u001b[0m\u001b[0;34m)\u001b[0m\u001b[0;34m,\u001b[0m\u001b[0mResetTool\u001b[0m\u001b[0;34m(\u001b[0m\u001b[0;34m)\u001b[0m\u001b[0;34m]\u001b[0m\u001b[0;34m\u001b[0m\u001b[0m\n\u001b[0m\u001b[1;32m     18\u001b[0m \u001b[0mf\u001b[0m\u001b[0;34m.\u001b[0m\u001b[0madd_tools\u001b[0m\u001b[0;34m(\u001b[0m\u001b[0mHoverTool\u001b[0m\u001b[0;34m(\u001b[0m\u001b[0;34m)\u001b[0m\u001b[0;34m)\u001b[0m\u001b[0;34m\u001b[0m\u001b[0m\n\u001b[1;32m     19\u001b[0m \u001b[0mf\u001b[0m\u001b[0;34m.\u001b[0m\u001b[0mtoolbar_location\u001b[0m \u001b[0;34m=\u001b[0m \u001b[0;34m'above'\u001b[0m\u001b[0;34m\u001b[0m\u001b[0m\n",
      "\u001b[0;32m/anaconda3/lib/python3.6/site-packages/bokeh/core/has_props.py\u001b[0m in \u001b[0;36m__setattr__\u001b[0;34m(self, name, value)\u001b[0m\n\u001b[1;32m    270\u001b[0m \u001b[0;34m\u001b[0m\u001b[0m\n\u001b[1;32m    271\u001b[0m             raise AttributeError(\"unexpected attribute '%s' to %s, %s attributes are %s\" %\n\u001b[0;32m--> 272\u001b[0;31m                 (name, self.__class__.__name__, text, nice_join(matches)))\n\u001b[0m\u001b[1;32m    273\u001b[0m \u001b[0;34m\u001b[0m\u001b[0m\n\u001b[1;32m    274\u001b[0m     \u001b[0;32mdef\u001b[0m \u001b[0m__str__\u001b[0m\u001b[0;34m(\u001b[0m\u001b[0mself\u001b[0m\u001b[0;34m)\u001b[0m\u001b[0;34m:\u001b[0m\u001b[0;34m\u001b[0m\u001b[0m\n",
      "\u001b[0;31mAttributeError\u001b[0m: unexpected attribute 'tools' to Figure, similar attributes are toolbar"
     ]
    }
   ],
   "source": [
    "#Plotting flower species\n",
    "\n",
    "#Importing libraries\n",
    "from bokeh.plotting import figure\n",
    "from bokeh.io import output_file, show\n",
    "from bokeh.sampledata.iris import flowers\n",
    "from bokeh.models import Range1d, PanTool, ResetTool, HoverTool\n",
    "\n",
    "\n",
    "#Define the output file path\n",
    "output_file(\"iris.html\")\n",
    "\n",
    "#Create the figure object\n",
    "f=figure()\n",
    "\n",
    "#Style the tools\n",
    "f.tools = [PanTool(),ResetTool()]\n",
    "f.add_tools(HoverTool())\n",
    "f.toolbar_location = 'above'\n",
    "f.toolbar.logo = None\n",
    "\n",
    "\n",
    "#Style the plot area\n",
    "f.plot_width=1100\n",
    "f.plot_height=650\n",
    "f.background_fill_color=\"olive\"\n",
    "f.background_fill_alpha=0.3\n",
    "f.circle(x=flowers[\"petal_length\"], y=flowers[\"petal_width\"])\n",
    "\n",
    "#Style the title\n",
    "f.title.text=\"Iris Morphology\"\n",
    "f.title.text_color=\"olive\"\n",
    "f.title.text_font=\"times\"\n",
    "f.title.text_font_size=\"25px\"\n",
    "f.title.align=\"center\"\n",
    "\n",
    "#Style the axes\n",
    "f.xaxis.minor_tick_line_color=\"blue\"\n",
    "f.yaxis.major_label_orientation=\"vertical\"\n",
    "f.xaxis.visible=True\n",
    "f.xaxis.minor_tick_in=-6\n",
    "f.xaxis.axis_label=\"Petal Length\"\n",
    "f.yaxis.axis_label=\"Petal Width\"\n",
    "f.axis.axis_label_text_color=\"blue\"\n",
    "f.axis.major_label_text_color=\"orange\"\n",
    "\n",
    "#Axes geometry\n",
    "f.x_range = Range1d(start=0, end=10)\n",
    "f.y_range = Range1d(start=0, end=5)\n",
    "f.xaxis.bounds = (2, 6)\n",
    "f.xaxis[0].ticker.desired_num_ticks = 2\n",
    "f.yaxis[0].ticker.desired_num_ticks = 2\n",
    "f.yaxis[0].ticker.num_minor_ticks = 10\n",
    "\n",
    "#Style the grid\n",
    "f.xgrid.grid_line_color = None\n",
    "f.ygrid.grid_line_alpha = 0.6\n",
    "f.grid.grid_line_dash = [5,3]\n",
    "\n",
    "\n",
    "#Save and show the figure\n",
    "show(f)\n"
   ]
  },
  {
   "cell_type": "code",
   "execution_count": null,
   "metadata": {
    "collapsed": true
   },
   "outputs": [],
   "source": []
  }
 ],
 "metadata": {
  "kernelspec": {
   "display_name": "Python 3",
   "language": "python",
   "name": "python3"
  },
  "language_info": {
   "codemirror_mode": {
    "name": "ipython",
    "version": 3
   },
   "file_extension": ".py",
   "mimetype": "text/x-python",
   "name": "python",
   "nbconvert_exporter": "python",
   "pygments_lexer": "ipython3",
   "version": "3.6.3"
  }
 },
 "nbformat": 4,
 "nbformat_minor": 2
}
